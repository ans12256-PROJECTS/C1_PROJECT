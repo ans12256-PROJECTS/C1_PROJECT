{
 "cells": [
  {
   "cell_type": "code",
   "execution_count": 11,
   "id": "10e52a86",
   "metadata": {},
   "outputs": [],
   "source": [
    "import numpy as np\n",
    "\n",
    "\n",
    "def two_lst_intersec(lst1=[], lst2=[]):\n",
    "    '''\n",
    "    Return intersection of arr1 and arr2, unique elements only\n",
    "    \n",
    "    '''\n",
    "    lst3 = [] # initialize intersection\n",
    "    \n",
    "    for i in lst1: # loop through 1st array\n",
    "        if (i in lst2 and i not in lst3):\n",
    "            lst3.append(i)\n",
    "    \n",
    "    \n",
    "    return lst3\n"
   ]
  },
  {
   "cell_type": "code",
   "execution_count": 12,
   "id": "c18d77ea",
   "metadata": {},
   "outputs": [],
   "source": [
    "# [2, 4, 4, 1, 5, 0], [3, 4, 4, 5]\n",
    "#  expect [4,5]\n",
    "l1 = [2, 4, 4, 1, 5, 0]\n",
    "l2 = [3, 4, 4, 5]\n",
    "l3 = two_lst_intersec(l1, l2)"
   ]
  },
  {
   "cell_type": "code",
   "execution_count": 13,
   "id": "a0354838",
   "metadata": {},
   "outputs": [
    {
     "data": {
      "text/plain": [
       "[4, 5]"
      ]
     },
     "execution_count": 13,
     "metadata": {},
     "output_type": "execute_result"
    }
   ],
   "source": [
    "l3"
   ]
  },
  {
   "cell_type": "code",
   "execution_count": 14,
   "id": "b55144ce",
   "metadata": {},
   "outputs": [],
   "source": [
    "emails = \"ase@gmail.com, am@comcast.net, cbd@gmail.com, are@hotmail.com, yahoo@hotmail.com, col@yahoo.com,\\\n",
    "            inte@comcast.net, gmail.info@gmail.com, por@hotmail.com, crt@comcast.net, gbm@sbcglobal.net, arc@gmail.com,\\\n",
    "            mail@gmail.com, ant@hotmail.com, mod@yahoo.com, fli@comcast.net, qrc.net@gmail.com, mail@yahoo.com,\\\n",
    "            ure@comcast.net, com@gmail.com, re@comcast.net, email@qq.net, info@yahoo.com, text.com@sbcglobal.net\""
   ]
  },
  {
   "cell_type": "code",
   "execution_count": 17,
   "id": "868c5259",
   "metadata": {},
   "outputs": [],
   "source": [
    "tmp = emails.split(sep=\",\") # split string in a list"
   ]
  },
  {
   "cell_type": "code",
   "execution_count": 30,
   "id": "d433b9ef",
   "metadata": {},
   "outputs": [],
   "source": [
    "def email_domains_dict(email_str: str):\n",
    "    '''\n",
    "    Split email string into a dictionary of\n",
    "    {'@gmail.com': [ase, am, person5], '@msn.com': [Jon5]} etc.\n",
    "    '''\n",
    "    # Split string into a list\n",
    "    tmp = emails.split(sep=\",\") # split string in a list ['email1', 'email2', etc.]\n",
    "    \n",
    "    # Initiate collection dictionary\n",
    "    emails_dict = {}\n",
    "    \n",
    "    for i in tmp:\n",
    "        [alias, domain] = i.split(sep='@')\n",
    "\n",
    "        if domain in emails_dict: # append alias to values\n",
    "            emails_dict[domain].append(alias)\n",
    "        else:  # new domain found\n",
    "            emails_dict[domain] = [alias] # create new key, AND populate with a list with an alias\n",
    "#             emails_dict[domain].append(alias) # add new value\n",
    "\n",
    "    # strip spaces\n",
    "    \n",
    "    \n",
    "    return emails_dict\n",
    "        \n",
    "        "
   ]
  },
  {
   "cell_type": "code",
   "execution_count": 31,
   "id": "dcd72fdd",
   "metadata": {},
   "outputs": [],
   "source": [
    "emails_dict = email_domains_dict(emails)"
   ]
  },
  {
   "cell_type": "code",
   "execution_count": 32,
   "id": "68d4b009",
   "metadata": {},
   "outputs": [
    {
     "data": {
      "text/plain": [
       "{'gmail.com': ['ase',\n",
       "  ' cbd',\n",
       "  ' gmail.info',\n",
       "  ' arc',\n",
       "  '            mail',\n",
       "  ' qrc.net',\n",
       "  ' com'],\n",
       " 'comcast.net': [' am',\n",
       "  '            inte',\n",
       "  ' crt',\n",
       "  ' fli',\n",
       "  '            ure',\n",
       "  ' re'],\n",
       " 'hotmail.com': [' are', ' yahoo', ' por', ' ant'],\n",
       " 'yahoo.com': [' col', ' mod', ' mail', ' info'],\n",
       " 'sbcglobal.net': [' gbm', ' text.com'],\n",
       " 'qq.net': [' email']}"
      ]
     },
     "execution_count": 32,
     "metadata": {},
     "output_type": "execute_result"
    }
   ],
   "source": [
    "emails_dict"
   ]
  },
  {
   "cell_type": "code",
   "execution_count": 25,
   "id": "c8c01706",
   "metadata": {},
   "outputs": [],
   "source": [
    "z = {'a': [1, 2]}"
   ]
  },
  {
   "cell_type": "code",
   "execution_count": 26,
   "id": "08d1d3f4",
   "metadata": {},
   "outputs": [
    {
     "data": {
      "text/plain": [
       "{'a': [1, 2]}"
      ]
     },
     "execution_count": 26,
     "metadata": {},
     "output_type": "execute_result"
    }
   ],
   "source": [
    "z"
   ]
  },
  {
   "cell_type": "code",
   "execution_count": 27,
   "id": "36a44d38",
   "metadata": {},
   "outputs": [
    {
     "ename": "TypeError",
     "evalue": "'dict' object is not callable",
     "output_type": "error",
     "traceback": [
      "\u001b[0;31m---------------------------------------------------------------------------\u001b[0m",
      "\u001b[0;31mTypeError\u001b[0m                                 Traceback (most recent call last)",
      "\u001b[0;32m<ipython-input-27-df09e7d738f4>\u001b[0m in \u001b[0;36m<module>\u001b[0;34m\u001b[0m\n\u001b[0;32m----> 1\u001b[0;31m \u001b[0mz\u001b[0m\u001b[0;34m(\u001b[0m\u001b[0;34m[\u001b[0m\u001b[0;34m'b'\u001b[0m\u001b[0;34m]\u001b[0m\u001b[0;34m)\u001b[0m\u001b[0;34m\u001b[0m\u001b[0;34m\u001b[0m\u001b[0m\n\u001b[0m",
      "\u001b[0;31mTypeError\u001b[0m: 'dict' object is not callable"
     ]
    }
   ],
   "source": [
    "z(['b'])"
   ]
  },
  {
   "cell_type": "code",
   "execution_count": null,
   "id": "567a7b70",
   "metadata": {},
   "outputs": [],
   "source": []
  }
 ],
 "metadata": {
  "kernelspec": {
   "display_name": "Python 3",
   "language": "python",
   "name": "python3"
  },
  "language_info": {
   "codemirror_mode": {
    "name": "ipython",
    "version": 3
   },
   "file_extension": ".py",
   "mimetype": "text/x-python",
   "name": "python",
   "nbconvert_exporter": "python",
   "pygments_lexer": "ipython3",
   "version": "3.7.10"
  }
 },
 "nbformat": 4,
 "nbformat_minor": 5
}
